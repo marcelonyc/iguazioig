{
 "cells": [
  {
   "cell_type": "code",
   "execution_count": 1,
   "metadata": {},
   "outputs": [],
   "source": [
    "# nuclio: start-code"
   ]
  },
  {
   "cell_type": "code",
   "execution_count": null,
   "metadata": {},
   "outputs": [],
   "source": [
    "import sys, os\n",
    "import ast\n",
    "import json\n",
    "import base64\n",
    "import requests\n",
    "import v3io.dataplane\n",
    "\n",
    "MODULE_PATHS = ast.literal_eval(os.getenv('STEP_CONFIG'))['MODULE_PATHS']\n",
    "module_paths = MODULE_PATHS or None\n",
    "if module_paths != None:\n",
    "    for module_path in module_paths:\n",
    "        sys.path.append(module_path)\n",
    "    \n",
    "IMPORT_MODULES = ast.literal_eval(os.getenv('STEP_CONFIG'))['IMPORT_MODULES']\n",
    "import_modules = IMPORT_MODULES or None\n",
    "if import_modules != None:\n",
    "    imports={}\n",
    "    import importlib\n",
    "    for  module in import_modules:\n",
    "        imports[module] = importlib.import_module(module)"
   ]
  },
  {
   "cell_type": "code",
   "execution_count": 6,
   "metadata": {},
   "outputs": [],
   "source": [
    "import urllib3\n",
    "urllib3.disable_warnings(urllib3.exceptions.InsecureRequestWarning)"
   ]
  },
  {
   "cell_type": "code",
   "execution_count": 15,
   "metadata": {},
   "outputs": [],
   "source": [
    "def output_stream(context,message,details):\n",
    "    Records=[]\n",
    "    # message must be a Python dictionary\n",
    "    record = json.dumps(message).encode('utf-8')\n",
    "    Records.append({\n",
    "            \"data\":  record,\n",
    "            \"partition_key\": message[context.user_data.unique_key],\n",
    "            })\n",
    "    try:\n",
    "        response = context.user_data.v3io_client.put_records(container=context.user_data.step_config['OUTPUT_STREAM_CONTAINER'],\n",
    "                                                 path=details['output_stream'],records=Records)\n",
    "        if 'FailedRecordCount' in response:\n",
    "            if response['FailedRecordCount'] > 0:\n",
    "                context.logger.info(f\"Failed to insert record {response} - {message}\")\n",
    "    except Exception as e:\n",
    "        context.logger.info(f\"Failed to insert record {e} - {message}\")\n",
    "        \n",
    "    return"
   ]
  },
  {
   "cell_type": "code",
   "execution_count": 16,
   "metadata": {},
   "outputs": [],
   "source": [
    "def igz_stream_init(context):\n",
    "    setattr(context.user_data,'v3io_client',\n",
    "            v3io.dataplane.Client(endpoint='http://v3io-webapi:8081', \n",
    "                                  access_key=os.getenv(\"V3IO_ACCESS_KEY\")))"
   ]
  },
  {
   "cell_type": "code",
   "execution_count": 9,
   "metadata": {},
   "outputs": [],
   "source": [
    "def output_function(context,message,details):\n",
    "    _module, _function = details['post_process_function'].split(\".\")\n",
    "    \"imports['%s'].%s()\"%(_module, _function)\n",
    "    call_function = \"imports['%s'].%s(context,message)\"%(_module, _function)\n",
    "    try:\n",
    "        eval(call_function)\n",
    "    except Exception as e: \n",
    "        context.logger.error(f\"output_function failed: {e}\")\n",
    "    return"
   ]
  },
  {
   "cell_type": "code",
   "execution_count": 10,
   "metadata": {},
   "outputs": [],
   "source": [
    "def output_http(context,message,details):\n",
    "    context.logger.info(\"If I was working I would post to %s the key %s\"% (details['url'],message[context.user_data.unique_key]))\n",
    "    try:\n",
    "        req = requests.post(url=details['url'],payload=json.loads(json.dumps(message)))\n",
    "    except:\n",
    "        context.logger.error(f\"Failed to post message to {details['url']}\")\n",
    "        \n",
    "    return"
   ]
  },
  {
   "cell_type": "code",
   "execution_count": 11,
   "metadata": {},
   "outputs": [],
   "source": [
    "def post_process(context,message):\n",
    "    for output in context.user_data.outputs:\n",
    "        if 'condition' in output:\n",
    "            try:\n",
    "                if not eval(output['condition']):\n",
    "                    continue\n",
    "            except:\n",
    "                context.logger.debug(\"Invalid condition spec %s\"% output['condition'])\n",
    "                continue\n",
    "                \n",
    "        call_function = \"output_%s(context,message,output)\"%output['kind']\n",
    "        try:\n",
    "            eval(call_function)\n",
    "        except Exception as e: \n",
    "            context.logger.error(f\"post_process failed: {e}\")"
   ]
  },
  {
   "cell_type": "code",
   "execution_count": 12,
   "metadata": {},
   "outputs": [],
   "source": [
    "def process(context,message):\n",
    "    # message is dictionary loaded from the stream event\n",
    "    _function=\"context.user_data.processing_class.%s(context,message)\"%context.user_data.step_config['PROCESSING_FUNCTION']\n",
    "    try:\n",
    "        post_message = eval(_function)\n",
    "    except Exception as e: \n",
    "        context.logger.error(f\"process failed: {e}\")\n",
    "        return   \n",
    "    post_process(context,post_message)\n",
    "    \n",
    "    return"
   ]
  },
  {
   "cell_type": "code",
   "execution_count": 13,
   "metadata": {},
   "outputs": [],
   "source": [
    "def init_context(context):\n",
    "    # IMPORTANTE: Load the model here\n",
    "    # This code will put the model in the context of the function\n",
    "    setattr(context.user_data,'step_config',ast.literal_eval(os.getenv('STEP_CONFIG')))\n",
    "    _class_init = os.getenv('CLASS_INIT')\n",
    "    _module, _class = context.user_data.step_config['CLASS_LOAD_FUNCTION'].split(\".\")\n",
    "    if _class_init != None:\n",
    "        _class_init = json.loads(_class_init)\n",
    "        _load_class = \"imports['%s'].%s(**_class_init)\"%(_module, _class)\n",
    "    else:\n",
    "        _load_class = \"imports['%s'].%s()\"%(_module, _class)\n",
    "        \n",
    "    \n",
    "    try:\n",
    "        setattr(context.user_data,'processing_class',eval(_load_class))\n",
    "    except Exception as e: \n",
    "        context.logger.error(f\"Init class failed: {e}\")\n",
    "        \n",
    "    setattr(context.user_data,'outputs',context.user_data.step_config['OUTPUTS'])\n",
    "    _stream_output = False\n",
    "    for output in context.user_data.outputs:\n",
    "        if output['kind'] == 'stream':\n",
    "            _stream_output = True\n",
    "            \n",
    "    if _stream_output:\n",
    "        igz_stream_init(context)\n",
    "\n",
    "    setattr(context.user_data,'unique_key',context.user_data.step_config['UNIQUE_KEY'])\n",
    "        \n",
    "    return\n",
    "    "
   ]
  },
  {
   "cell_type": "code",
   "execution_count": 14,
   "metadata": {},
   "outputs": [],
   "source": [
    "def handler(context, event):\n",
    "    #context.logger.debug(event.body)\n",
    "    try:\n",
    "        message = json.loads(event.body.decode('utf-8'))\n",
    "    except:\n",
    "        print(\"Malformated Json \", event.body)\n",
    "    process(context,message)\n",
    "      \n",
    "    return "
   ]
  },
  {
   "cell_type": "code",
   "execution_count": null,
   "metadata": {},
   "outputs": [],
   "source": [
    "# nuclio: end-code"
   ]
  }
 ],
 "metadata": {
  "kernelspec": {
   "display_name": "Python 3",
   "language": "python",
   "name": "python3"
  },
  "language_info": {
   "codemirror_mode": {
    "name": "ipython",
    "version": 3
   },
   "file_extension": ".py",
   "mimetype": "text/x-python",
   "name": "python",
   "nbconvert_exporter": "python",
   "pygments_lexer": "ipython3",
   "version": "3.7.6"
  }
 },
 "nbformat": 4,
 "nbformat_minor": 4
}
